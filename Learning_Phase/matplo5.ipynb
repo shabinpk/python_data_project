{
 "cells": [
  {
   "cell_type": "code",
   "execution_count": null,
   "id": "a17158b6",
   "metadata": {},
   "outputs": [
    {
     "name": "stderr",
     "output_type": "stream",
     "text": [
      "c:\\Users\\shabi\\anaconda3\\envs\\python_course\\Lib\\site-packages\\tqdm\\auto.py:21: TqdmWarning: IProgress not found. Please update jupyter and ipywidgets. See https://ipywidgets.readthedocs.io/en/stable/user_install.html\n",
      "  from .autonotebook import tqdm as notebook_tqdm\n"
     ]
    }
   ],
   "source": [
    "import pandas as pd\n",
    "import ast\n",
    "\n",
    "from datasets import load_dataset\n",
    "import matplotlib.pyplot as plt\n",
    "datasets=load_dataset('lukebarousse/data_jobs')\n",
    "df=datasets['train'].to_pandas()\n",
    "df['job_posted_date']=pd.to_datetime(df['job_posted_date'])\n",
    "df['job_skills']=df['job_skills'].apply(lambda skill_list:ast.literal_eval(skill_list)\n",
    "                                        if pd.notna(skill_list) else skill_list\n",
    "                                        )\n",
    "\n"
   ]
  },
  {
   "cell_type": "code",
   "execution_count": 2,
   "id": "e9cf731f",
   "metadata": {},
   "outputs": [],
   "source": [
    "from adjustText import adjust_text"
   ]
  },
  {
   "cell_type": "code",
   "execution_count": 3,
   "id": "69a4a028",
   "metadata": {},
   "outputs": [],
   "source": [
    "df = df[df['job_title_short'] == 'Data Analyst'].copy()\n"
   ]
  },
  {
   "cell_type": "code",
   "execution_count": 4,
   "id": "1f05a720",
   "metadata": {},
   "outputs": [
    {
     "data": {
      "text/html": [
       "<div>\n",
       "<style scoped>\n",
       "    .dataframe tbody tr th:only-of-type {\n",
       "        vertical-align: middle;\n",
       "    }\n",
       "\n",
       "    .dataframe tbody tr th {\n",
       "        vertical-align: top;\n",
       "    }\n",
       "\n",
       "    .dataframe thead th {\n",
       "        text-align: right;\n",
       "    }\n",
       "</style>\n",
       "<table border=\"1\" class=\"dataframe\">\n",
       "  <thead>\n",
       "    <tr style=\"text-align: right;\">\n",
       "      <th></th>\n",
       "      <th>median_salary</th>\n",
       "      <th>skill_count</th>\n",
       "    </tr>\n",
       "    <tr>\n",
       "      <th>job_skills</th>\n",
       "      <th></th>\n",
       "      <th></th>\n",
       "    </tr>\n",
       "  </thead>\n",
       "  <tbody>\n",
       "    <tr>\n",
       "      <th>sql</th>\n",
       "      <td>92500.000000</td>\n",
       "      <td>92428</td>\n",
       "    </tr>\n",
       "    <tr>\n",
       "      <th>excel</th>\n",
       "      <td>84479.000000</td>\n",
       "      <td>66860</td>\n",
       "    </tr>\n",
       "    <tr>\n",
       "      <th>python</th>\n",
       "      <td>98500.000000</td>\n",
       "      <td>57190</td>\n",
       "    </tr>\n",
       "    <tr>\n",
       "      <th>tableau</th>\n",
       "      <td>95000.000000</td>\n",
       "      <td>46455</td>\n",
       "    </tr>\n",
       "    <tr>\n",
       "      <th>power bi</th>\n",
       "      <td>90000.000000</td>\n",
       "      <td>39380</td>\n",
       "    </tr>\n",
       "    <tr>\n",
       "      <th>r</th>\n",
       "      <td>92527.500000</td>\n",
       "      <td>29996</td>\n",
       "    </tr>\n",
       "    <tr>\n",
       "      <th>sas</th>\n",
       "      <td>90000.000000</td>\n",
       "      <td>27998</td>\n",
       "    </tr>\n",
       "    <tr>\n",
       "      <th>powerpoint</th>\n",
       "      <td>85000.000000</td>\n",
       "      <td>13822</td>\n",
       "    </tr>\n",
       "    <tr>\n",
       "      <th>word</th>\n",
       "      <td>80000.000000</td>\n",
       "      <td>13562</td>\n",
       "    </tr>\n",
       "    <tr>\n",
       "      <th>sap</th>\n",
       "      <td>90000.000000</td>\n",
       "      <td>11280</td>\n",
       "    </tr>\n",
       "    <tr>\n",
       "      <th>azure</th>\n",
       "      <td>100000.000000</td>\n",
       "      <td>10913</td>\n",
       "    </tr>\n",
       "    <tr>\n",
       "      <th>oracle</th>\n",
       "      <td>95000.000000</td>\n",
       "      <td>10387</td>\n",
       "    </tr>\n",
       "    <tr>\n",
       "      <th>aws</th>\n",
       "      <td>100500.000000</td>\n",
       "      <td>9047</td>\n",
       "    </tr>\n",
       "    <tr>\n",
       "      <th>sql server</th>\n",
       "      <td>92150.000000</td>\n",
       "      <td>8288</td>\n",
       "    </tr>\n",
       "    <tr>\n",
       "      <th>go</th>\n",
       "      <td>90000.000000</td>\n",
       "      <td>7905</td>\n",
       "    </tr>\n",
       "    <tr>\n",
       "      <th>flow</th>\n",
       "      <td>94450.000000</td>\n",
       "      <td>7259</td>\n",
       "    </tr>\n",
       "    <tr>\n",
       "      <th>vba</th>\n",
       "      <td>90000.000000</td>\n",
       "      <td>6841</td>\n",
       "    </tr>\n",
       "    <tr>\n",
       "      <th>looker</th>\n",
       "      <td>104000.000000</td>\n",
       "      <td>6259</td>\n",
       "    </tr>\n",
       "    <tr>\n",
       "      <th>snowflake</th>\n",
       "      <td>110240.109375</td>\n",
       "      <td>6178</td>\n",
       "    </tr>\n",
       "    <tr>\n",
       "      <th>qlik</th>\n",
       "      <td>100000.000000</td>\n",
       "      <td>5681</td>\n",
       "    </tr>\n",
       "  </tbody>\n",
       "</table>\n",
       "</div>"
      ],
      "text/plain": [
       "            median_salary  skill_count\n",
       "job_skills                            \n",
       "sql          92500.000000        92428\n",
       "excel        84479.000000        66860\n",
       "python       98500.000000        57190\n",
       "tableau      95000.000000        46455\n",
       "power bi     90000.000000        39380\n",
       "r            92527.500000        29996\n",
       "sas          90000.000000        27998\n",
       "powerpoint   85000.000000        13822\n",
       "word         80000.000000        13562\n",
       "sap          90000.000000        11280\n",
       "azure       100000.000000        10913\n",
       "oracle       95000.000000        10387\n",
       "aws         100500.000000         9047\n",
       "sql server   92150.000000         8288\n",
       "go           90000.000000         7905\n",
       "flow         94450.000000         7259\n",
       "vba          90000.000000         6841\n",
       "looker      104000.000000         6259\n",
       "snowflake   110240.109375         6178\n",
       "qlik        100000.000000         5681"
      ]
     },
     "execution_count": 4,
     "metadata": {},
     "output_type": "execute_result"
    }
   ],
   "source": [
    "df_exploded = df.explode('job_skills')\n",
    "\n",
    "skill_stats = df_exploded.groupby('job_skills').agg(\n",
    "    median_salary=('salary_year_avg', 'median'),\n",
    "    skill_count=('job_skills', 'count')\n",
    ")\n",
    "skill_count=20\n",
    "# Limit to the top 10 skills by highest salary\n",
    "skill_stats = skill_stats.sort_values(by='skill_count', ascending=False).head(skill_count)\n",
    "\n",
    "skill_stats"
   ]
  },
  {
   "cell_type": "code",
   "execution_count": 5,
   "id": "0c148441",
   "metadata": {},
   "outputs": [
    {
     "name": "stdout",
     "output_type": "stream",
     "text": [
      "0 sql\n",
      "1 excel\n",
      "2 python\n",
      "3 tableau\n",
      "4 power bi\n",
      "5 r\n",
      "6 sas\n",
      "7 powerpoint\n",
      "8 word\n",
      "9 sap\n",
      "10 azure\n",
      "11 oracle\n",
      "12 aws\n",
      "13 sql server\n",
      "14 go\n",
      "15 flow\n",
      "16 vba\n",
      "17 looker\n",
      "18 snowflake\n",
      "19 qlik\n"
     ]
    },
    {
     "data": {
      "image/png": "[encoded data removed]",
      "text/plain": [
       "<Figure size 640x480 with 1 Axes>"
      ]
     },
     "metadata": {},
     "output_type": "display_data"
    }
   ],
   "source": [
    "skill_stats.plot(kind='scatter',x='skill_count',y='median_salary')\n",
    "plt.xlabel('Count of job Postings for each skills')\n",
    "plt.ylabel('Salary Yearly:Median')\n",
    "plt.title('Salay vs Count of job postings for top 10 skills')\n",
    "plt.tight_layout()\n",
    "ax=plt.gca()\n",
    "ax.yaxis.set_major_formatter(plt.FuncFormatter(lambda y,pos:f'${int(y/1000)}K'))\n",
    "texts=[]\n",
    "for i,txt in enumerate(skill_stats.index):\n",
    "    print(i,txt)\n",
    "    texts.append(plt.text(skill_stats['skill_count'].iloc[i],skill_stats['median_salary'].iloc[i],txt))\n",
    "    \n",
    "adjust_text(texts,arrowprops=dict(arrowstyle='->',color='gray',lw=1))\n",
    "plt.show()"
   ]
  },
  {
   "cell_type": "code",
   "execution_count": null,
   "id": "50d89675",
   "metadata": {},
   "outputs": [],
   "source": []
  },
  {
   "cell_type": "code",
   "execution_count": null,
   "id": "8d559c24",
   "metadata": {},
   "outputs": [],
   "source": []
  },
  {
   "cell_type": "code",
   "execution_count": null,
   "id": "1f7ededf",
   "metadata": {},
   "outputs": [],
   "source": []
  },
  {
   "cell_type": "code",
   "execution_count": null,
   "id": "42a2e372",
   "metadata": {},
   "outputs": [],
   "source": []
  },
  {
   "cell_type": "code",
   "execution_count": null,
   "id": "111bc8a6",
   "metadata": {},
   "outputs": [],
   "source": []
  },
  {
   "cell_type": "code",
   "execution_count": null,
   "id": "23ff00c0",
   "metadata": {},
   "outputs": [],
   "source": []
  },
  {
   "cell_type": "code",
   "execution_count": null,
   "id": "75673f5d",
   "metadata": {},
   "outputs": [],
   "source": []
  },
  {
   "cell_type": "code",
   "execution_count": null,
   "id": "81b96895",
   "metadata": {},
   "outputs": [],
   "source": []
  },
  {
   "cell_type": "code",
   "execution_count": null,
   "id": "68b18c35",
   "metadata": {},
   "outputs": [],
   "source": []
  },
  {
   "cell_type": "code",
   "execution_count": null,
   "id": "26588a3c",
   "metadata": {},
   "outputs": [],
   "source": []
  },
  {
   "cell_type": "code",
   "execution_count": null,
   "id": "091f5775",
   "metadata": {},
   "outputs": [],
   "source": []
  },
  {
   "cell_type": "code",
   "execution_count": 6,
   "id": "5f81b7e7",
   "metadata": {},
   "outputs": [],
   "source": [
    "#https://www.youtube.com/watch?v=wUSDVGivd-8\n",
    "#9h6m"
   ]
  }
 ],
 "metadata": {
  "kernelspec": {
   "display_name": "python_course",
   "language": "python",
   "name": "python3"
  },
  "language_info": {
   "codemirror_mode": {
    "name": "ipython",
    "version": 3
   },
   "file_extension": ".py",
   "mimetype": "text/x-python",
   "name": "python",
   "nbconvert_exporter": "python",
   "pygments_lexer": "ipython3",
   "version": "3.11.13"
  }
 },
 "nbformat": 4,
 "nbformat_minor": 5
}
